{
 "cells": [
  {
   "cell_type": "code",
   "execution_count": 1,
   "id": "071ec76d",
   "metadata": {},
   "outputs": [],
   "source": [
    "from justcause.data.generators import multi_expo_on_ihdp\n",
    "from tabulate import tabulate\n",
    "\n",
    "# Load a list of 100 replications\n",
    "multi = multi_expo_on_ihdp(setting='multi-modal', n_replications=100)\n",
    "\n",
    "expo = multi_expo_on_ihdp(setting='exponential', n_replications=100)"
   ]
  },
  {
   "cell_type": "code",
   "execution_count": 2,
   "id": "fc329717",
   "metadata": {},
   "outputs": [],
   "source": [
    "#from justcause.learners.utils import install_r_packages\n",
    " \n",
    "from justcause.learners import SLearner, TLearner\n",
    " \n",
    "from sklearn.linear_model import LinearRegression\n",
    " \n",
    "from sklearn.ensemble import RandomForestRegressor\n",
    " \n",
    "# Ensure 'grf' R package is installed in the environment\n",
    " \n",
    "#install_r_packages(['grf'])\n",
    " \n",
    "learners = [\n",
    " \n",
    "    SLearner(LinearRegression()),\n",
    " \n",
    "    TLearner(LinearRegression()),\n",
    " \n",
    "    #XLearner(LinearRegression()),\n",
    " \n",
    "    SLearner(RandomForestRegressor()),\n",
    " \n",
    "    TLearner(RandomForestRegressor()),\n",
    " \n",
    "    #XLearner(RandomForestRegressor()),\n",
    " \n",
    "    #CausalForest()\n",
    " \n",
    "]"
   ]
  },
  {
   "cell_type": "code",
   "execution_count": 3,
   "id": "1b471655",
   "metadata": {},
   "outputs": [],
   "source": [
    "from justcause.evaluation import evaluate_ite\n",
    " \n",
    "from justcause.metrics import pehe_score, mean_absolute, bias\n",
    " \n",
    "results = evaluate_ite(expo, learners, metrics=[pehe_score, mean_absolute, bias], random_state=0)"
   ]
  },
  {
   "cell_type": "code",
   "execution_count": 4,
   "id": "fcd9579a",
   "metadata": {},
   "outputs": [
    {
     "data": {
      "text/plain": [
       "[{'pehe_score-mean': 0.9451582945475707,\n",
       "  'pehe_score-median': 0.9436891153358786,\n",
       "  'pehe_score-std': 0.0035026938702000985,\n",
       "  'mean_absolute-mean': 0.06860262656237501,\n",
       "  'mean_absolute-median': 0.060967341834091915,\n",
       "  'mean_absolute-std': 0.042414874504152385,\n",
       "  'bias-mean': 0.06666265502452164,\n",
       "  'bias-median': 0.06096734183408491,\n",
       "  'bias-std': 0.0454029996315268,\n",
       "  'method': 'SLearner(learner=LinearRegression)',\n",
       "  'train': True},\n",
       " {'pehe_score-mean': 0.9498985853464902,\n",
       "  'pehe_score-median': 0.9492952513501121,\n",
       "  'pehe_score-std': 0.0037897478422334787,\n",
       "  'mean_absolute-mean': 0.07733431582352658,\n",
       "  'mean_absolute-median': 0.08187968387947464,\n",
       "  'mean_absolute-std': 0.04341536950127625,\n",
       "  'bias-mean': -0.07618437068903888,\n",
       "  'bias-median': -0.08187968387947561,\n",
       "  'bias-std': 0.04540299963152679,\n",
       "  'method': 'SLearner(learner=LinearRegression)',\n",
       "  'train': False},\n",
       " {'pehe_score-mean': 0.19897326597345524,\n",
       "  'pehe_score-median': 0.19706257390132997,\n",
       "  'pehe_score-std': 0.015361487417508738,\n",
       "  'mean_absolute-mean': 0.03567381382149442,\n",
       "  'mean_absolute-median': 0.03385867729884584,\n",
       "  'mean_absolute-std': 0.020490983302412075,\n",
       "  'bias-mean': -0.033118607548902036,\n",
       "  'bias-median': -0.03295419610127476,\n",
       "  'bias-std': 0.02440613085461572,\n",
       "  'method': 'TLearner(control=LinearRegression, treated=LinearRegression)',\n",
       "  'train': True},\n",
       " {'pehe_score-mean': 0.16861298815215503,\n",
       "  'pehe_score-median': 0.16924467749040262,\n",
       "  'pehe_score-std': 0.013658902970300911,\n",
       "  'mean_absolute-mean': 0.02833389195591282,\n",
       "  'mean_absolute-median': 0.025329673343847503,\n",
       "  'mean_absolute-std': 0.01863880666458419,\n",
       "  'bias-mean': -0.02318841059699323,\n",
       "  'bias-median': -0.022703757018849136,\n",
       "  'bias-std': 0.024748983034346143,\n",
       "  'method': 'TLearner(control=LinearRegression, treated=LinearRegression)',\n",
       "  'train': False},\n",
       " {'pehe_score-mean': 0.1570318251360024,\n",
       "  'pehe_score-median': 0.15587221429166523,\n",
       "  'pehe_score-std': 0.008302520776379564,\n",
       "  'mean_absolute-mean': 0.018137188346376554,\n",
       "  'mean_absolute-median': 0.014889611061805752,\n",
       "  'mean_absolute-std': 0.01363491834818293,\n",
       "  'bias-mean': 0.004594339269596467,\n",
       "  'bias-median': 0.005973827864597903,\n",
       "  'bias-std': 0.022220725599073843,\n",
       "  'method': 'SLearner(learner=RandomForestRegressor)',\n",
       "  'train': True},\n",
       " {'pehe_score-mean': 0.11579837986142938,\n",
       "  'pehe_score-median': 0.11538029303463783,\n",
       "  'pehe_score-std': 0.010230463730624187,\n",
       "  'mean_absolute-mean': 0.017333748615022095,\n",
       "  'mean_absolute-median': 0.013294766347312859,\n",
       "  'mean_absolute-std': 0.013979306166347951,\n",
       "  'bias-mean': 0.0027357940309126728,\n",
       "  'bias-median': 0.0024509354194557635,\n",
       "  'bias-std': 0.022099666806576383,\n",
       "  'method': 'SLearner(learner=RandomForestRegressor)',\n",
       "  'train': False},\n",
       " {'pehe_score-mean': 0.15729312975595414,\n",
       "  'pehe_score-median': 0.15649896108908412,\n",
       "  'pehe_score-std': 0.007701750627571578,\n",
       "  'mean_absolute-mean': 0.018494651243369464,\n",
       "  'mean_absolute-median': 0.014684559661366503,\n",
       "  'mean_absolute-std': 0.013881045060922968,\n",
       "  'bias-mean': 0.004446465497752676,\n",
       "  'bias-median': 0.0055221191662458485,\n",
       "  'bias-std': 0.022692828849098567,\n",
       "  'method': 'TLearner(control=RandomForestRegressor, treated=RandomForestRegressor)',\n",
       "  'train': True},\n",
       " {'pehe_score-mean': 0.11577923929888331,\n",
       "  'pehe_score-median': 0.11540504091291509,\n",
       "  'pehe_score-std': 0.01001180531483173,\n",
       "  'mean_absolute-mean': 0.018022619584560175,\n",
       "  'mean_absolute-median': 0.0138142006203128,\n",
       "  'mean_absolute-std': 0.013675902568696902,\n",
       "  'bias-mean': 0.002609171404272636,\n",
       "  'bias-median': 0.005617865891969899,\n",
       "  'bias-std': 0.022473036117565136,\n",
       "  'method': 'TLearner(control=RandomForestRegressor, treated=RandomForestRegressor)',\n",
       "  'train': False}]"
      ]
     },
     "execution_count": 4,
     "metadata": {},
     "output_type": "execute_result"
    }
   ],
   "source": [
    "results\n"
   ]
  },
  {
   "cell_type": "code",
   "execution_count": 5,
   "id": "e9ff2552",
   "metadata": {},
   "outputs": [
    {
     "name": "stdout",
     "output_type": "stream",
     "text": [
      "╒════════════════════════════════════════════════════════════════════════╤═══════════════════╕\n",
      "│ Method                                                                 │   pehe_score-mean │\n",
      "╞════════════════════════════════════════════════════════════════════════╪═══════════════════╡\n",
      "│ SLearner(learner=LinearRegression)                                     │          0.945158 │\n",
      "├────────────────────────────────────────────────────────────────────────┼───────────────────┤\n",
      "│ SLearner(learner=LinearRegression)                                     │          0.949899 │\n",
      "├────────────────────────────────────────────────────────────────────────┼───────────────────┤\n",
      "│ TLearner(control=LinearRegression, treated=LinearRegression)           │          0.198973 │\n",
      "├────────────────────────────────────────────────────────────────────────┼───────────────────┤\n",
      "│ TLearner(control=LinearRegression, treated=LinearRegression)           │          0.168613 │\n",
      "├────────────────────────────────────────────────────────────────────────┼───────────────────┤\n",
      "│ SLearner(learner=RandomForestRegressor)                                │          0.157032 │\n",
      "├────────────────────────────────────────────────────────────────────────┼───────────────────┤\n",
      "│ SLearner(learner=RandomForestRegressor)                                │          0.115798 │\n",
      "├────────────────────────────────────────────────────────────────────────┼───────────────────┤\n",
      "│ TLearner(control=RandomForestRegressor, treated=RandomForestRegressor) │          0.157293 │\n",
      "├────────────────────────────────────────────────────────────────────────┼───────────────────┤\n",
      "│ TLearner(control=RandomForestRegressor, treated=RandomForestRegressor) │          0.115779 │\n",
      "╘════════════════════════════════════════════════════════════════════════╧═══════════════════╛\n"
     ]
    }
   ],
   "source": [
    "cut = [{\"Method\":row[\"method\"], \"pehe_score-mean\":row[\"pehe_score-mean\"] }for row in results]\n",
    "print(tabulate(cut, headers=\"keys\", tablefmt=\"fancy_grid\"))"
   ]
  },
  {
   "cell_type": "code",
   "execution_count": null,
   "id": "01cb8fee",
   "metadata": {},
   "outputs": [],
   "source": []
  }
 ],
 "metadata": {
  "kernelspec": {
   "display_name": "Python 3 (ipykernel)",
   "language": "python",
   "name": "python3"
  },
  "language_info": {
   "codemirror_mode": {
    "name": "ipython",
    "version": 3
   },
   "file_extension": ".py",
   "mimetype": "text/x-python",
   "name": "python",
   "nbconvert_exporter": "python",
   "pygments_lexer": "ipython3",
   "version": "3.9.7"
  }
 },
 "nbformat": 4,
 "nbformat_minor": 5
}
