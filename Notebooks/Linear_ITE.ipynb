{
 "cells": [
  {
   "cell_type": "markdown",
   "id": "2953c555",
   "metadata": {},
   "source": [
    "# Notebook description\n",
    "\n",
    "This is an exemplary notebook that includes the generation of a half-synthetic dataset based on IHDP data. The individual\n",
    "treatment effect is linear to one of the covariates in this example. There is no noise in this example either.\n",
    "The basic structure is taken from: \n",
    "https://justcause.readthedocs.io/en/latest/usage.html#quick-overview"
   ]
  },
  {
   "cell_type": "code",
   "execution_count": 60,
   "id": "1751e75e",
   "metadata": {},
   "outputs": [],
   "source": [
    "from sklearn.utils import check_random_state  # ensures usable random state\n",
    "from justcause.data.utils import generate_data\n",
    "import numpy as np\n",
    "from numpy.random import RandomState\n",
    "from scipy.special import expit\n",
    "from sklearn.utils import check_random_state\n",
    "from justcause.data.sets.ihdp import get_ihdp_covariates\n",
    "\n",
    "covs = get_ihdp_covariates()"
   ]
  },
  {
   "cell_type": "code",
   "execution_count": 61,
   "id": "6d9ca34e",
   "metadata": {},
   "outputs": [],
   "source": [
    "def outcome(covariates, *, random_state: RandomState, **kwargs):\n",
    "    random_state = check_random_state(random_state)\n",
    "\n",
    "    # define tau\n",
    "    tau = random_state.normal(2*covariates[\"x_8\"]*covariates[\"x_7\"] + covariates[\"x_8\"]*covariates[\"x_9\"] + 3*covariates[\"x_7\"]*covariates[\"x_9\"], 0, size=len(covariates))\n",
    "\n",
    "    y_0 = random_state.normal(0, 0.2, size=len(covariates))\n",
    "    y_1 = y_0 + tau\n",
    "    mu_0, mu_1 = y_0, y_1  # no noise for this example\n",
    "    return mu_0, mu_1, y_0, y_1"
   ]
  },
  {
   "cell_type": "code",
   "execution_count": 62,
   "id": "7241ed20",
   "metadata": {},
   "outputs": [],
   "source": [
    "def treatment(covariates, *, random_state: RandomState, **kwargs):\n",
    "    random_state = check_random_state(random_state)\n",
    "    return random_state.binomial(1, 0.5, size=len(covariates))"
   ]
  },
  {
   "cell_type": "code",
   "execution_count": 63,
   "id": "bfba0a10",
   "metadata": {},
   "outputs": [],
   "source": [
    "replications = generate_data(\n",
    "    covs,\n",
    "    treatment,\n",
    "    outcome,\n",
    "    n_samples=747,  # Optional but 747 is the maximum available with IHDP covariates\n",
    "    n_replications=1000,\n",
    "    random_state=0  # Fix random_state for replicability\n",
    ")"
   ]
  },
  {
   "cell_type": "code",
   "execution_count": 64,
   "id": "128050a3",
   "metadata": {},
   "outputs": [],
   "source": [
    "from sklearn.linear_model import LinearRegression\n",
    "\n",
    "from sklearn.preprocessing import PolynomialFeatures\n",
    "\n",
    "from justcause.learners import SLearner, TLearner\n",
    "\n",
    "class PolyLearner:\n",
    "    def __init__(self, degree):\n",
    "        self.degree = degree\n",
    "        self.poly = PolynomialFeatures(degree)\n",
    "        self.linReg = LinearRegression()\n",
    "    \n",
    "    def fit(self, X, y, sample_weight = None):\n",
    "        X_Poly = self.poly.fit_transform(X)\n",
    "        self.linReg.fit(X_Poly, y, sample_weight)\n",
    "    \n",
    "    def predict(self, X):\n",
    "        X_Poly = self.poly.fit_transform(X)\n",
    "        return self.linReg.predict(X_Poly)"
   ]
  },
  {
   "cell_type": "code",
   "execution_count": 71,
   "id": "2c218386",
   "metadata": {},
   "outputs": [],
   "source": [
    "learners = [\n",
    " \n",
    "    SLearner(LinearRegression()),\n",
    " \n",
    "    TLearner(LinearRegression()),\n",
    "    \n",
    "    SLearner(PolyLearner(2)),\n",
    " \n",
    "    TLearner(PolyLearner(2))\n",
    "]"
   ]
  },
  {
   "cell_type": "code",
   "execution_count": null,
   "id": "0966689d",
   "metadata": {},
   "outputs": [],
   "source": [
    "from justcause.evaluation import evaluate_ite\n",
    " \n",
    "from justcause.metrics import pehe_score, mean_absolute, bias\n",
    " \n",
    "results = evaluate_ite(replications, learners, metrics=[pehe_score, mean_absolute, bias], random_state=0)"
   ]
  },
  {
   "cell_type": "code",
   "execution_count": null,
   "id": "ddff11a1",
   "metadata": {},
   "outputs": [],
   "source": [
    "import pandas as pd\n",
    "df = pd.DataFrame(results).sort_values('pehe_score-mean')\n",
    "df[df['train'] == False][['method', 'train', 'pehe_score-mean']]"
   ]
  },
  {
   "cell_type": "code",
   "execution_count": null,
   "id": "ffc6cbaf",
   "metadata": {},
   "outputs": [],
   "source": []
  }
 ],
 "metadata": {
  "kernelspec": {
   "display_name": "Python 3 (ipykernel)",
   "language": "python",
   "name": "python3"
  },
  "language_info": {
   "codemirror_mode": {
    "name": "ipython",
    "version": 3
   },
   "file_extension": ".py",
   "mimetype": "text/x-python",
   "name": "python",
   "nbconvert_exporter": "python",
   "pygments_lexer": "ipython3",
   "version": "3.7.11"
  }
 },
 "nbformat": 4,
 "nbformat_minor": 5
}
