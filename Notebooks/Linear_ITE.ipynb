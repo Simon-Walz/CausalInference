{
 "cells": [
  {
   "cell_type": "markdown",
   "id": "ebab5616",
   "metadata": {},
   "source": [
    "# Notebook description\n",
    "\n",
    "This is an exemplary notebook that includes the generation of a half-synthetic dataset based on IHDP data. The individual\n",
    "treatment effect is linear to one of the covariates in this example. There is no noise in this example either.\n",
    "The basic structure is taken from: \n",
    "https://justcause.readthedocs.io/en/latest/usage.html#quick-overview"
   ]
  },
  {
   "cell_type": "code",
   "execution_count": 37,
   "id": "f201c975",
   "metadata": {},
   "outputs": [],
   "source": [
    "from sklearn.utils import check_random_state  # ensures usable random state\n",
    "from justcause.data.utils import generate_data\n",
    "import numpy as np\n",
    "from numpy.random import RandomState\n",
    "from scipy.special import expit\n",
    "from sklearn.utils import check_random_state\n",
    "from justcause.data.sets.ihdp import get_ihdp_covariates\n",
    "\n",
    "covariates = get_ihdp_covariates()"
   ]
  },
  {
   "cell_type": "code",
   "execution_count": 38,
   "id": "ee2e0443",
   "metadata": {},
   "outputs": [],
   "source": [
    "def linear_outcome(covariates, *, random_state: RandomState, **kwargs):\n",
    "    random_state = check_random_state(random_state)\n",
    "\n",
    "    # define tau as linear function of covariate x_8\n",
    "    tau = 2 * covariates[:, 7]\n",
    "\n",
    "    y_0 = 1\n",
    "    y_1 = y_0 + tau\n",
    "    mu_0, mu_1 = y_0, y_1  # no noise for this example\n",
    "    return mu_0, mu_1, y_0, y_1"
   ]
  },
  {
   "cell_type": "code",
   "execution_count": 48,
   "id": "23e61515",
   "metadata": {},
   "outputs": [],
   "source": [
    "def treatment(covariates, *, random_state: RandomState, **kwargs):\n",
    "    random_state = check_random_state(random_state)\n",
    "    return random_state.binomial(1, p=0.5)"
   ]
  },
  {
   "cell_type": "code",
   "execution_count": 49,
   "id": "092392e4",
   "metadata": {},
   "outputs": [
    {
     "ename": "AssertionError",
     "evalue": "Treatment function must return vector with dimension `n_samples`",
     "output_type": "error",
     "traceback": [
      "\u001b[1;31m---------------------------------------------------------------------------\u001b[0m",
      "\u001b[1;31mAssertionError\u001b[0m                            Traceback (most recent call last)",
      "\u001b[1;32m~\\AppData\\Local\\Temp/ipykernel_10312/4226249957.py\u001b[0m in \u001b[0;36m<module>\u001b[1;34m\u001b[0m\n\u001b[1;32m----> 1\u001b[1;33m replications = generate_data(\n\u001b[0m\u001b[0;32m      2\u001b[0m     \u001b[0mcovariates\u001b[0m\u001b[1;33m,\u001b[0m\u001b[1;33m\u001b[0m\u001b[1;33m\u001b[0m\u001b[0m\n\u001b[0;32m      3\u001b[0m     \u001b[0mtreatment\u001b[0m\u001b[1;33m,\u001b[0m\u001b[1;33m\u001b[0m\u001b[1;33m\u001b[0m\u001b[0m\n\u001b[0;32m      4\u001b[0m     \u001b[0mlinear_outcome\u001b[0m\u001b[1;33m,\u001b[0m\u001b[1;33m\u001b[0m\u001b[1;33m\u001b[0m\u001b[0m\n\u001b[0;32m      5\u001b[0m     \u001b[0mn_samples\u001b[0m\u001b[1;33m=\u001b[0m\u001b[1;36m747\u001b[0m\u001b[1;33m,\u001b[0m  \u001b[1;31m# Optional but 747 is the maximum available with IHDP covariates\u001b[0m\u001b[1;33m\u001b[0m\u001b[1;33m\u001b[0m\u001b[0m\n",
      "\u001b[1;32m~\\Anaconda3\\lib\\site-packages\\justcause\\data\\utils.py\u001b[0m in \u001b[0;36mgenerate_data\u001b[1;34m(covariates, treatment, outcomes, n_samples, n_replications, covariate_names, random_state, **kwargs)\u001b[0m\n\u001b[0;32m    181\u001b[0m         \u001b[0mrep_df\u001b[0m \u001b[1;33m=\u001b[0m \u001b[0mpd\u001b[0m\u001b[1;33m.\u001b[0m\u001b[0mDataFrame\u001b[0m\u001b[1;33m(\u001b[0m\u001b[0mcolumns\u001b[0m\u001b[1;33m=\u001b[0m\u001b[0mDATA_COLS\u001b[0m\u001b[1;33m)\u001b[0m\u001b[1;33m\u001b[0m\u001b[1;33m\u001b[0m\u001b[0m\n\u001b[0;32m    182\u001b[0m         \u001b[0mrep_df\u001b[0m\u001b[1;33m[\u001b[0m\u001b[0mCol\u001b[0m\u001b[1;33m.\u001b[0m\u001b[0mt\u001b[0m\u001b[1;33m]\u001b[0m \u001b[1;33m=\u001b[0m \u001b[0mtreatment\u001b[0m\u001b[1;33m(\u001b[0m\u001b[0mcovariates\u001b[0m\u001b[1;33m,\u001b[0m \u001b[0mrandom_state\u001b[0m\u001b[1;33m=\u001b[0m\u001b[0mrandom_state\u001b[0m\u001b[1;33m,\u001b[0m \u001b[1;33m**\u001b[0m\u001b[0mkwargs\u001b[0m\u001b[1;33m)\u001b[0m\u001b[1;33m\u001b[0m\u001b[1;33m\u001b[0m\u001b[0m\n\u001b[1;32m--> 183\u001b[1;33m         assert (\n\u001b[0m\u001b[0;32m    184\u001b[0m             \u001b[0mrep_df\u001b[0m\u001b[1;33m.\u001b[0m\u001b[0mshape\u001b[0m\u001b[1;33m[\u001b[0m\u001b[1;36m0\u001b[0m\u001b[1;33m]\u001b[0m \u001b[1;33m==\u001b[0m \u001b[0mn_samples\u001b[0m\u001b[1;33m\u001b[0m\u001b[1;33m\u001b[0m\u001b[0m\n\u001b[0;32m    185\u001b[0m         ), \"Treatment function must return vector with dimension `n_samples`\"\n",
      "\u001b[1;31mAssertionError\u001b[0m: Treatment function must return vector with dimension `n_samples`"
     ]
    }
   ],
   "source": [
    "replications = generate_data(\n",
    "    covariates,\n",
    "    treatment,\n",
    "    linear_outcome,\n",
    "    n_samples=747,  # Optional but 747 is the maximum available with IHDP covariates\n",
    "    n_replications=100,\n",
    "    random_state=0  # Fix random_state for replicability\n",
    ")"
   ]
  },
  {
   "cell_type": "code",
   "execution_count": null,
   "id": "341af7a8",
   "metadata": {},
   "outputs": [],
   "source": []
  },
  {
   "cell_type": "code",
   "execution_count": null,
   "id": "14bb85e7",
   "metadata": {},
   "outputs": [],
   "source": []
  }
 ],
 "metadata": {
  "kernelspec": {
   "display_name": "Python 3 (ipykernel)",
   "language": "python",
   "name": "python3"
  },
  "language_info": {
   "codemirror_mode": {
    "name": "ipython",
    "version": 3
   },
   "file_extension": ".py",
   "mimetype": "text/x-python",
   "name": "python",
   "nbconvert_exporter": "python",
   "pygments_lexer": "ipython3",
   "version": "3.9.7"
  }
 },
 "nbformat": 4,
 "nbformat_minor": 5
}
